{
 "cells": [
  {
   "cell_type": "markdown",
   "id": "1d16157b",
   "metadata": {},
   "source": [
    "### 튜플(tuple)\n",
    "- 파이썬의 자료구조 형태 중 하나\n",
    "- 순서가 있는 집합(index)\n",
    "- 소괄호()로 작성되어지며, 콤마(,)로 구분된다.\n",
    "- 추가, 수정, 삭제 불가능하다\n",
    "- 처리속도 향상 및 메모리 공간 절약\n",
    "- 값이 변하면 안되는 경우 사용\n",
    "- 구문을 더 간단하게 사용하는 경우\n",
    "- 인덱싱이나 값을 가져오는 것은 가능"
   ]
  },
  {
   "cell_type": "code",
   "execution_count": 3,
   "id": "91610160",
   "metadata": {},
   "outputs": [
    {
     "name": "stdout",
     "output_type": "stream",
     "text": [
      "(1, 2, ('My', 'Name'))\n"
     ]
    },
    {
     "data": {
      "text/plain": [
       "tuple"
      ]
     },
     "execution_count": 3,
     "metadata": {},
     "output_type": "execute_result"
    }
   ],
   "source": [
    "a=()\n",
    "b=(1,2,3)\n",
    "c=('My', 'name')\n",
    "d=(1,2,'My','Name')\n",
    "e=(1,2,('My','Name'))\n",
    "print(e)\n",
    "type(a)"
   ]
  },
  {
   "cell_type": "code",
   "execution_count": 4,
   "id": "74d451a5",
   "metadata": {},
   "outputs": [],
   "source": [
    "tuple1=(0,1,2,3,('a','b','c'),5)"
   ]
  },
  {
   "cell_type": "code",
   "execution_count": 5,
   "id": "da50d761",
   "metadata": {},
   "outputs": [
    {
     "data": {
      "text/plain": [
       "2"
      ]
     },
     "execution_count": 5,
     "metadata": {},
     "output_type": "execute_result"
    }
   ],
   "source": [
    "tuple1[2]"
   ]
  },
  {
   "cell_type": "code",
   "execution_count": 6,
   "id": "fbd42637",
   "metadata": {},
   "outputs": [
    {
     "data": {
      "text/plain": [
       "('a', 'b', 'c')"
      ]
     },
     "execution_count": 6,
     "metadata": {},
     "output_type": "execute_result"
    }
   ],
   "source": [
    "tuple1[4]"
   ]
  },
  {
   "cell_type": "code",
   "execution_count": 8,
   "id": "52075dad",
   "metadata": {},
   "outputs": [
    {
     "data": {
      "text/plain": [
       "(1, 2)"
      ]
     },
     "execution_count": 8,
     "metadata": {},
     "output_type": "execute_result"
    }
   ],
   "source": [
    "tuple1[1:3]"
   ]
  },
  {
   "cell_type": "markdown",
   "id": "9c1a3343",
   "metadata": {},
   "source": [
    "### 데이터의 포함 여부\n",
    "- in, not in"
   ]
  },
  {
   "cell_type": "code",
   "execution_count": 9,
   "id": "98f2ea7a",
   "metadata": {},
   "outputs": [],
   "source": [
    "str1=\"파이썬 최고\""
   ]
  },
  {
   "cell_type": "code",
   "execution_count": 10,
   "id": "1f466621",
   "metadata": {},
   "outputs": [
    {
     "data": {
      "text/plain": [
       "True"
      ]
     },
     "execution_count": 10,
     "metadata": {},
     "output_type": "execute_result"
    }
   ],
   "source": [
    "\"파이썬\" in str1"
   ]
  },
  {
   "cell_type": "code",
   "execution_count": 14,
   "id": "3621a064",
   "metadata": {},
   "outputs": [
    {
     "data": {
      "text/plain": [
       "True"
      ]
     },
     "execution_count": 14,
     "metadata": {},
     "output_type": "execute_result"
    }
   ],
   "source": [
    "\"구글\" not in str1"
   ]
  },
  {
   "cell_type": "code",
   "execution_count": 20,
   "id": "06d5d4e9",
   "metadata": {},
   "outputs": [
    {
     "name": "stdout",
     "output_type": "stream",
     "text": [
      "*************************************************\n",
      "검색할 문자를 입력하세요 >> f;ahs\n",
      "f;ahs는(은) 리스트에 들어있지 않습니다.\n",
      "*************************************************\n",
      "*****\n"
     ]
    }
   ],
   "source": [
    "list_fruit =['딸기','바나나','수박','체리','포도']\n",
    "print('*************************************************')\n",
    "f=input('검색할 문자를 입력하세요 >> ')\n",
    "\n",
    "if f in list_fruit:\n",
    "    n=list_fruit.index(f)\n",
    "    print(f'{f}는(은) 리스트에 {n}번째 인덱스에 들어있습니다.')\n",
    "else:\n",
    "    print(f'{f}는(은) 리스트에 들어있지 않습니다.')\n",
    "print('*************************************************')\n"
   ]
  },
  {
   "cell_type": "code",
   "execution_count": 26,
   "id": "4124bbba",
   "metadata": {},
   "outputs": [
    {
     "name": "stdout",
     "output_type": "stream",
     "text": [
      "*************************\n",
      "검색할 문자를 입력하세요 >> i\n",
      "i는(은)  3번 들어있습니다.\n",
      "*************************\n"
     ]
    }
   ],
   "source": [
    "s='Hi, My name is minseo'\n",
    "s.count('i')\n",
    "print('*'*25)\n",
    "s2=input('검색할 문자를 입력하세요 >> ')\n",
    "if s2 in s:\n",
    "    n=s.count(s2)\n",
    "    print(f'{s2}는(은)  {n}번 들어있습니다.')\n",
    "else:\n",
    "    print(f'{s2}는(은) 문자열에 들어있지 않습니다.')\n",
    "\n",
    "\n",
    "print('*'*25)"
   ]
  },
  {
   "cell_type": "code",
   "execution_count": 28,
   "id": "12a5d990",
   "metadata": {},
   "outputs": [
    {
     "name": "stdout",
     "output_type": "stream",
     "text": [
      "*\n"
     ]
    }
   ],
   "source": [
    "while True:\n",
    "    print('*')\n",
    "    break"
   ]
  },
  {
   "cell_type": "code",
   "execution_count": 29,
   "id": "0fb09063",
   "metadata": {},
   "outputs": [
    {
     "name": "stdout",
     "output_type": "stream",
     "text": [
      "1\n",
      "2\n",
      "3\n"
     ]
    }
   ],
   "source": [
    "number=1\n",
    "while True:\n",
    "    print(number)\n",
    "    number +=1\n",
    "    if number>3:\n",
    "        break"
   ]
  },
  {
   "cell_type": "code",
   "execution_count": 37,
   "id": "3e987518",
   "metadata": {},
   "outputs": [
    {
     "name": "stdout",
     "output_type": "stream",
     "text": [
      "첫 번째 정수 입력 >> 0\n",
      "두 번째 정수 입력 >> 0\n",
      "프로그램이 종료되었습니ㄷㅏㅏㅏㅏㅏㅏㅏㅏㅏㅏㅏㅏㅏㅏㅏㅏㅏㅏㅏㅏㅏ.\n"
     ]
    }
   ],
   "source": [
    "while True:\n",
    "    num1=int(input('첫 번째 정수 입력 >> '))\n",
    "    num2 =int(input('두 번째 정수 입력 >> '))\n",
    "    if num1 == 0 and num2 ==0:\n",
    "        print('프로그램이 종료되었습니ㄷㅏㅏㅏㅏㅏㅏㅏㅏㅏㅏㅏㅏㅏㅏㅏㅏㅏㅏㅏㅏㅏ.')\n",
    "        break\n",
    "    else:\n",
    "        num3=num1+num2\n",
    "    \n",
    "    print(f'두 정수의 합 : {num3}')"
   ]
  },
  {
   "cell_type": "code",
   "execution_count": 40,
   "id": "3d762110",
   "metadata": {},
   "outputs": [
    {
     "name": "stdout",
     "output_type": "stream",
     "text": [
      "I don't make accident\n"
     ]
    }
   ],
   "source": [
    "print('I don\\'t make the accident')"
   ]
  },
  {
   "cell_type": "code",
   "execution_count": 45,
   "id": "3a807ab0",
   "metadata": {},
   "outputs": [
    {
     "name": "stdout",
     "output_type": "stream",
     "text": [
      "현재 몸무게 : 100\n",
      "목표 몸무게 : 65\n",
      "1주차 감량 몸무게 : 2\n",
      "2주차 감량 몸무게 : 9\n",
      "3주차 감량 몸무게 : 30\n",
      "59 kg 달성!! 축하합니다!\n"
     ]
    }
   ],
   "source": [
    "w=int(input('현재 몸무게 : '))\n",
    "pw=int(input('목표 몸무게 : '))\n",
    "cnt=1\n",
    "while w>pw:\n",
    "    k=int(input(f'{cnt}주차 감량 몸무게 : '))\n",
    "    w -= k\n",
    "    cnt+=1\n",
    "          \n",
    "print(f'{w} kg 달성!! 축하합니다!')"
   ]
  },
  {
   "cell_type": "code",
   "execution_count": 48,
   "id": "b6458a1d",
   "metadata": {
    "scrolled": true
   },
   "outputs": [
    {
     "name": "stdout",
     "output_type": "stream",
     "text": [
      "안\n",
      "녕\n",
      "하\n",
      "세\n",
      "요\n"
     ]
    }
   ],
   "source": [
    "s='안녕하세요'\n",
    "for i in s:\n",
    "    print(i)"
   ]
  },
  {
   "cell_type": "code",
   "execution_count": 52,
   "id": "e3f8c8d2",
   "metadata": {},
   "outputs": [
    {
     "name": "stdout",
     "output_type": "stream",
     "text": [
      "햄버거\n",
      "치킨\n",
      "피자\n"
     ]
    }
   ],
   "source": [
    "tuple_food = ('햄버거', '치킨','피자')\n",
    "for food in tuple_food:\n",
    "              print(food)"
   ]
  },
  {
   "cell_type": "code",
   "execution_count": 1,
   "id": "91ec6234",
   "metadata": {},
   "outputs": [
    {
     "name": "stdout",
     "output_type": "stream",
     "text": [
      "1번 학생은 합격입니다.\n",
      "2번 학생은 불합격입니다.\n",
      "3번 학생은 합격입니다.\n",
      "4번 학생은 합격입니다.\n",
      "5번 학생은 불합격입니다.\n"
     ]
    }
   ],
   "source": [
    "score_list=[90,45,70,60,55]\n",
    "for i in score_list:\n",
    "    if i>=60:\n",
    "        print(f'{score_list.index(i)+1}번 학생은 합격입니다.')\n",
    "    else:\n",
    "        print(f'{score_list.index(i)+1}번 학생은 불합격입니다.')"
   ]
  }
 ],
 "metadata": {
  "kernelspec": {
   "display_name": "Python 3 (ipykernel)",
   "language": "python",
   "name": "python3"
  },
  "language_info": {
   "codemirror_mode": {
    "name": "ipython",
    "version": 3
   },
   "file_extension": ".py",
   "mimetype": "text/x-python",
   "name": "python",
   "nbconvert_exporter": "python",
   "pygments_lexer": "ipython3",
   "version": "3.9.7"
  }
 },
 "nbformat": 4,
 "nbformat_minor": 5
}
